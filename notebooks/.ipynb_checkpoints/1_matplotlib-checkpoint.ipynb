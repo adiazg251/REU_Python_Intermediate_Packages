{
 "cells": [
  {
   "cell_type": "markdown",
   "metadata": {},
   "source": [
    "# Challenge 1: Matplotlib and NumPy"
   ]
  },
  {
   "cell_type": "markdown",
   "metadata": {},
   "source": [
    "### Import the packages you need at the top:"
   ]
  },
  {
   "cell_type": "code",
   "execution_count": 1,
   "metadata": {},
   "outputs": [],
   "source": [
    "import numpy as np\n",
    "import matplotlib.pyplot as plt\n",
    "%matplotlib inline"
   ]
  },
  {
   "cell_type": "markdown",
   "metadata": {},
   "source": [
    "### Task 1\n",
    "Fix this block of code so that it evaluates the function $y = 3x^{2} +2x + 1$ on the given x values"
   ]
  },
  {
   "cell_type": "code",
   "execution_count": 2,
   "metadata": {},
   "outputs": [],
   "source": [
    "my_x = np.linspace(-10, 10, 50)\n",
    "\n",
    "def quadratic(x):\n",
    "    \n",
    "    # What goes here?\n",
    "    y = 3*x**2 + 2*x + 1\n",
    "    return y\n",
    "\n",
    "my_y = quadratic(my_x)"
   ]
  },
  {
   "cell_type": "markdown",
   "metadata": {},
   "source": [
    "### Task 2\n",
    "Use Matplotlib to plot the x and y values with green triangles. Be sure to add a label for the legend!"
   ]
  },
  {
   "cell_type": "code",
   "execution_count": 10,
   "metadata": {},
   "outputs": [
    {
     "data": {
      "image/png": "[encoded data removed]",
      "text/plain": [
       "<Figure size 432x288 with 1 Axes>"
      ]
     },
     "metadata": {
      "needs_background": "light"
     },
     "output_type": "display_data"
    }
   ],
   "source": [
    "fig = plt.figure()\n",
    "\n",
    "# What goes here?\n",
    "plt.scatter(my_x, my_y,color='green',marker='v',label='My Data')\n",
    "plt.xlabel('x')\n",
    "plt.ylabel(r'$y = x^{2}$')\n",
    "plt.title('This is my plot')\n",
    "plt.legend()\n",
    "plt.show()\n",
    "\n",
    "#This line saves plot as a PNG in the files folder\n",
    "fig.savefig('../../files/Sample_Plot.png')"
   ]
  },
  {
   "cell_type": "code",
   "execution_count": null,
   "metadata": {},
   "outputs": [],
   "source": []
  }
 ],
 "metadata": {
  "kernelspec": {
   "display_name": "Python 3",
   "language": "python",
   "name": "python3"
  },
  "language_info": {
   "codemirror_mode": {
    "name": "ipython",
    "version": 3
   },
   "file_extension": ".py",
   "mimetype": "text/x-python",
   "name": "python",
   "nbconvert_exporter": "python",
   "pygments_lexer": "ipython3",
   "version": "3.8.8"
  }
 },
 "nbformat": 4,
 "nbformat_minor": 4
}
